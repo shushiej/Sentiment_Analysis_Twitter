{
 "cells": [
  {
   "cell_type": "code",
   "execution_count": 1,
   "metadata": {},
   "outputs": [],
   "source": [
    "from tweepy import API, Cursor, OAuthHandler, Stream\n",
    "from tweepy.streaming import StreamListener\n",
    "import creds\n",
    "import json\n",
    "\n",
    "class TwitterClient():\n",
    "    def __init__(self, twitter_user=None):\n",
    "        self.auth = TwitterAuthenicator().authenticate_twitter_app()\n",
    "        self.twitter_client = API(self.auth)\n",
    "        self.twitter_user = twitter_user\n",
    "    \n",
    "    def get_twitter_client_api(self):\n",
    "        return self.twitter_client\n",
    "\n",
    "    def get_user_timeline_tweets(self, num_tweets):\n",
    "        tweets = []\n",
    "        for tweet in Cursor(self.twitter_client.user_timeline, id=self.twitter_user).items(num_tweets):\n",
    "            tweets.append(tweet)\n",
    "        return tweets\n",
    "    \n",
    "    def get_friend_list(self, num_friends):\n",
    "        friend_list = []\n",
    "        for friend in Cursor(self.twitter_client.friends).items(num_friends):\n",
    "            friend_list.append(friend)\n",
    "        return friend_list\n",
    "\n",
    "    def get_woeid_of_trending_tweets(self):\n",
    "        with open('woeid_trends.json', 'a') as tf:\n",
    "            json.dump(self.twitter_client.trends_available(), tf)\n",
    "    \n",
    "\n",
    "\n",
    "class TwitterAuthenicator():\n",
    "\n",
    "    def authenticate_twitter_app(self):\n",
    "        auth = OAuthHandler(creds.CONSUMER_API_KEY, creds.CONSUMER_SECRET)\n",
    "        auth.set_access_token(creds.ACCESS_TOKEN, creds.ACCESS_TOKEN_SECRET)\n",
    "        return auth\n",
    "\n",
    "class TwitterStreamer():\n",
    "    def __init__(self):\n",
    "        self.twiiter_authenicator = TwitterAuthenicator()\n",
    "\n",
    "    def stream_tweets(self, fname, hashtag_list):\n",
    "        listener = StdOutListener(fname)\n",
    "        auth = self.twiiter_authenicator.authenticate_twitter_app()\n",
    "        stream = Stream(auth, listener)\n",
    "        stream.filter(track=hashtag_list)\n",
    "        \n",
    "class StdOutListener(StreamListener):\n",
    "\n",
    "    def __init__(self, fname):\n",
    "        self.fname = fname\n",
    "\n",
    "    def on_data(self, data):\n",
    "        try:\n",
    "\n",
    "            print(data)\n",
    "            with open(fname, 'a') as tf:\n",
    "                tf.write(data)\n",
    "            return True\n",
    "        except BaseException as e:\n",
    "            print(\"error on data %s\", str(e))\n",
    "\n",
    "        return True\n",
    "\n",
    "    def on_error(self, status):\n",
    "        if status == 420:\n",
    "            # Return false if we reach rate limit\n",
    "            return False\n",
    "        print(status)"
   ]
  },
  {
   "cell_type": "code",
   "execution_count": 156,
   "metadata": {},
   "outputs": [],
   "source": [
    "import pandas as pd\n",
    "import numpy as np\n",
    "import matplotlib.pyplot as plt\n",
    "\n",
    "from textblob import TextBlob\n",
    "import re\n",
    "\n",
    "\n",
    "class TweetAnalyzer():\n",
    "    \n",
    "    def clean_tweet(self, tweet):\n",
    "        # remove speical characters and hyperlinks\n",
    "        return ' '.join(re.sub(\"(@[A-Za-z0-9]+)|([^0-9A-Za-z \\t])|(\\w+:\\/\\/\\S+)\", \" \", tweet).split())\n",
    "    \n",
    "    def analyze_sentiment(self, tweet):\n",
    "        analysis = TextBlob(self.clean_tweet(tweet))\n",
    "        \n",
    "        if analysis.sentiment.polarity > 0:\n",
    "            return 1\n",
    "        elif analysis.sentiment.polarity == 0:\n",
    "            return 0\n",
    "        else:\n",
    "            return -1\n",
    "    \n",
    "    def tweets_to_df(self,tweets):\n",
    "        df = pd.DataFrame(data=[tweet.full_text for tweet in tweets], columns=['tweets'])\n",
    "        df['id'] = np.array([tweet.id for tweet in tweets])\n",
    "        df['date_created'] = np.array([tweet.created_at for tweet in tweets])\n",
    "        df['likes'] = np.array([tweet.favorite_count for tweet in tweets])\n",
    "        df['retweet_count'] = np.array([tweet.retweet_count for tweet in tweets])\n",
    "        df['len'] = np.array([len(tweet.full_text) for tweet in tweets])\n",
    "        df['sentiment'] = np.array([self.analyze_sentiment(tweet) for tweet in df['tweets']])\n",
    "        df['date_created'] = pd.to_datetime(df['date_created'])\n",
    "        df['tweet_date'] = [d.date() for d in df['date_created']]\n",
    "        df['tweet_day_of_week'] = df['date_created'].dt.weekday_name\n",
    "        df['tweet_hour'] = df['date_created'].dt.hour\n",
    "        \n",
    "        return df\n",
    "    \n",
    "    def analyse_tweets(self, tweets):\n",
    "\n",
    "        df = self.tweets_to_df(tweets)\n",
    "        df['av_len_tweet'] = np.mean(df['len'])\n",
    "        df['av_tweets_per_day'] = df.groupby('tweet_date')['tweets'].count().mean() \n",
    "        df['av_sentiment'] = np.mean(df['sentiment'])\n",
    "        \n",
    "        max_idx = df.groupby(['tweets'])['likes'].transform(max) == df['likes'].max()\n",
    "        df['most_liked_tweet']= df[max_idx]['tweets'][:1]\n",
    "        \n",
    "        min_idx = df.groupby(['tweets'])['likes'].transform(max) == df['likes'].min()\n",
    "        df['least_liked_tweet'] = df[min_idx]['tweets'][:1]\n",
    "        \n",
    "        most_retweets_idx = df.groupby(['tweets'])['retweet_count'].transform(max) == df['retweet_count'].max()\n",
    "        df['most_retweeted_tweet'] = df[most_retweets_idx]['tweets'][:1]\n",
    "        \n",
    "        #self.write_to_json(tweets, df)\n",
    "        return df\n",
    "        \n",
    "        \n",
    "    def write_to_json(self, tweets, df):\n",
    "        fname = tweets[0].user.screen_name + \"-\" + str(df['date_created'].dt.date.min()) + \"-\" + str(df['date_created'].dt.date.max())\n",
    "        try: \n",
    "            df.to_json(fname, orient='table')\n",
    "            print('wrote file to ', fname)\n",
    "        except e:\n",
    "            print('error writing to json', e)"
   ]
  },
  {
   "cell_type": "code",
   "execution_count": 157,
   "metadata": {},
   "outputs": [],
   "source": [
    "twitter_client = TwitterClient()\n",
    "api = twitter_client.get_twitter_client_api()\n",
    "ta = TweetAnalyzer()"
   ]
  },
  {
   "cell_type": "code",
   "execution_count": 158,
   "metadata": {},
   "outputs": [
    {
     "name": "stdout",
     "output_type": "stream",
     "text": [
      "wrote file to  realDonaldTrump-2019-07-24-2019-08-04\n"
     ]
    }
   ],
   "source": [
    "tweets = api.user_timeline(screen_name='realDonaldTrump', count=200, tweet_mode=\"extended\")\n",
    "df = ta.analyse_tweets(tweets)\n",
    "ta.write_to_json(tweets, df)"
   ]
  },
  {
   "cell_type": "code",
   "execution_count": 159,
   "metadata": {},
   "outputs": [
    {
     "name": "stdout",
     "output_type": "stream",
     "text": [
      "wrote file to  neiltyson-2019-02-23-2019-08-04\n"
     ]
    }
   ],
   "source": [
    "tweets_ndt = api.user_timeline(screen_name='neiltyson', count=200, tweet_mode=\"extended\")\n",
    "df = ta.analyse_tweets(tweets_ndt)\n",
    "ta.write_to_json(tweets_ndt, df)"
   ]
  },
  {
   "cell_type": "code",
   "execution_count": 160,
   "metadata": {},
   "outputs": [
    {
     "name": "stdout",
     "output_type": "stream",
     "text": [
      "wrote file to  rickygervais-2019-07-23-2019-08-04\n"
     ]
    }
   ],
   "source": [
    "tweets_rg = api.user_timeline(screen_name='rickygervais', count=200, tweet_mode=\"extended\")\n",
    "df = ta.analyse_tweets(tweets_rg)\n",
    "ta.write_to_json(tweets_rg, df)"
   ]
  },
  {
   "cell_type": "code",
   "execution_count": 161,
   "metadata": {},
   "outputs": [
    {
     "name": "stdout",
     "output_type": "stream",
     "text": [
      "wrote file to  elonmusk-2019-07-17-2019-08-04\n"
     ]
    }
   ],
   "source": [
    "tweets_em = api.user_timeline(screen_name='elonmusk', count=200, tweet_mode=\"extended\")\n",
    "df = ta.analyse_tweets(tweets_em)\n",
    "ta.write_to_json(tweets_em, df)"
   ]
  },
  {
   "cell_type": "code",
   "execution_count": 85,
   "metadata": {},
   "outputs": [
    {
     "data": {
      "image/png": "[encoded data removed]",
      "text/plain": [
       "<Figure size 1152x288 with 1 Axes>"
      ]
     },
     "metadata": {
      "needs_background": "light"
     },
     "output_type": "display_data"
    }
   ],
   "source": [
    "time_likes = pd.Series(data=df['likes'].values, index=df['date_created'])\n",
    "time_likes.plot(figsize=(16,4), label='likes', legend=True)\n",
    "time_retweets = pd.Series(data=df['retweet_count'].values, index=df['date_created'])\n",
    "time_retweets.plot(figsize=(16,4), label='retweets', legend=True)\n",
    "plt.show()"
   ]
  },
  {
   "cell_type": "markdown",
   "metadata": {},
   "source": [
    "## Apply Spacy and Gensim to Tweets for higher data analysis"
   ]
  },
  {
   "cell_type": "markdown",
   "metadata": {},
   "source": [
    "## get trending hashtags by country\n",
    "    * US: 23424977\n",
    "    * UK: 23424975\n",
    "    * Aus: 23424748\n",
    "    * Canada: 23424775\n",
    "    * NZ: 23424916"
   ]
  },
  {
   "cell_type": "code",
   "execution_count": null,
   "metadata": {},
   "outputs": [],
   "source": []
  },
  {
   "cell_type": "code",
   "execution_count": null,
   "metadata": {},
   "outputs": [],
   "source": []
  },
  {
   "cell_type": "code",
   "execution_count": null,
   "metadata": {},
   "outputs": [],
   "source": []
  },
  {
   "cell_type": "code",
   "execution_count": null,
   "metadata": {},
   "outputs": [],
   "source": []
  },
  {
   "cell_type": "code",
   "execution_count": null,
   "metadata": {},
   "outputs": [],
   "source": []
  },
  {
   "cell_type": "code",
   "execution_count": null,
   "metadata": {},
   "outputs": [],
   "source": []
  },
  {
   "cell_type": "code",
   "execution_count": null,
   "metadata": {},
   "outputs": [],
   "source": []
  },
  {
   "cell_type": "code",
   "execution_count": null,
   "metadata": {},
   "outputs": [],
   "source": []
  },
  {
   "cell_type": "code",
   "execution_count": null,
   "metadata": {},
   "outputs": [],
   "source": []
  },
  {
   "cell_type": "code",
   "execution_count": null,
   "metadata": {},
   "outputs": [],
   "source": []
  }
 ],
 "metadata": {
  "kernelspec": {
   "display_name": "Python 3",
   "language": "python",
   "name": "python3"
  },
  "language_info": {
   "codemirror_mode": {
    "name": "ipython",
    "version": 3
   },
   "file_extension": ".py",
   "mimetype": "text/x-python",
   "name": "python",
   "nbconvert_exporter": "python",
   "pygments_lexer": "ipython3",
   "version": "3.5.6"
  }
 },
 "nbformat": 4,
 "nbformat_minor": 2
}
